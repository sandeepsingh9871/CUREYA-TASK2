{
 "cells": [
  {
   "cell_type": "code",
   "execution_count": 1,
   "metadata": {},
   "outputs": [],
   "source": [
    "import matplotlib.pyplot as plt\n",
    "import numpy as np\n",
    "import pandas as pd\n",
    "import scipy as sp\n",
    "import seaborn as sns\n",
    "import statsmodels.api as sm\n",
    "import statsmodels.tsa.api as smt\n",
    "import warnings\n",
    "from sklearn.linear_model import LinearRegression\n",
    "from sklearn.model_selection import train_test_split\n",
    "from statsmodels.stats.outliers_influence import variance_inflation_factor"
   ]
  },
  {
   "cell_type": "code",
   "execution_count": 2,
   "metadata": {},
   "outputs": [],
   "source": [
    "df = pd.read_csv('data.csv')"
   ]
  },
  {
   "cell_type": "code",
   "execution_count": 3,
   "metadata": {},
   "outputs": [
    {
     "data": {
      "text/html": [
       "<div>\n",
       "<style scoped>\n",
       "    .dataframe tbody tr th:only-of-type {\n",
       "        vertical-align: middle;\n",
       "    }\n",
       "\n",
       "    .dataframe tbody tr th {\n",
       "        vertical-align: top;\n",
       "    }\n",
       "\n",
       "    .dataframe thead th {\n",
       "        text-align: right;\n",
       "    }\n",
       "</style>\n",
       "<table border=\"1\" class=\"dataframe\">\n",
       "  <thead>\n",
       "    <tr style=\"text-align: right;\">\n",
       "      <th></th>\n",
       "      <th>Sr. No.</th>\n",
       "      <th>State</th>\n",
       "      <th>Total</th>\n",
       "      <th>Bridge Persons Killed</th>\n",
       "      <th>Culvert Persons Killed</th>\n",
       "      <th>Pot Holes Persons Killed</th>\n",
       "      <th>Steep Grade Persons Killed</th>\n",
       "      <th>Under Construction Persons Killed</th>\n",
       "      <th>Others Persons Killed</th>\n",
       "    </tr>\n",
       "  </thead>\n",
       "  <tbody>\n",
       "    <tr>\n",
       "      <th>0</th>\n",
       "      <td>1</td>\n",
       "      <td>Andhra Pradesh</td>\n",
       "      <td>3,114</td>\n",
       "      <td>268</td>\n",
       "      <td>121</td>\n",
       "      <td>32</td>\n",
       "      <td>15</td>\n",
       "      <td>96</td>\n",
       "      <td>414</td>\n",
       "    </tr>\n",
       "    <tr>\n",
       "      <th>1</th>\n",
       "      <td>2</td>\n",
       "      <td>Arunachal Pradesh</td>\n",
       "      <td>54</td>\n",
       "      <td>15</td>\n",
       "      <td>13</td>\n",
       "      <td>6</td>\n",
       "      <td>13</td>\n",
       "      <td>19</td>\n",
       "      <td>29</td>\n",
       "    </tr>\n",
       "    <tr>\n",
       "      <th>2</th>\n",
       "      <td>3</td>\n",
       "      <td>Assam</td>\n",
       "      <td>1,690</td>\n",
       "      <td>229</td>\n",
       "      <td>119</td>\n",
       "      <td>93</td>\n",
       "      <td>63</td>\n",
       "      <td>123</td>\n",
       "      <td>296</td>\n",
       "    </tr>\n",
       "    <tr>\n",
       "      <th>3</th>\n",
       "      <td>4</td>\n",
       "      <td>Bihar</td>\n",
       "      <td>3,436</td>\n",
       "      <td>178</td>\n",
       "      <td>206</td>\n",
       "      <td>0</td>\n",
       "      <td>102</td>\n",
       "      <td>16</td>\n",
       "      <td>602</td>\n",
       "    </tr>\n",
       "    <tr>\n",
       "      <th>4</th>\n",
       "      <td>5</td>\n",
       "      <td>Chhattisgarh</td>\n",
       "      <td>1,421</td>\n",
       "      <td>158</td>\n",
       "      <td>143</td>\n",
       "      <td>28</td>\n",
       "      <td>24</td>\n",
       "      <td>84</td>\n",
       "      <td>818</td>\n",
       "    </tr>\n",
       "  </tbody>\n",
       "</table>\n",
       "</div>"
      ],
      "text/plain": [
       "   Sr. No.              State  Total Bridge Persons Killed  \\\n",
       "0        1     Andhra Pradesh  3,114                   268   \n",
       "1        2  Arunachal Pradesh     54                    15   \n",
       "2        3              Assam  1,690                   229   \n",
       "3        4              Bihar  3,436                   178   \n",
       "4        5       Chhattisgarh  1,421                   158   \n",
       "\n",
       "  Culvert Persons Killed Pot Holes Persons Killed  Steep Grade Persons Killed  \\\n",
       "0                    121                       32                          15   \n",
       "1                     13                        6                          13   \n",
       "2                    119                       93                          63   \n",
       "3                    206                        0                         102   \n",
       "4                    143                       28                          24   \n",
       "\n",
       "  Under Construction Persons Killed Others Persons Killed  \n",
       "0                                96                   414  \n",
       "1                                19                    29  \n",
       "2                               123                   296  \n",
       "3                                16                   602  \n",
       "4                                84                   818  "
      ]
     },
     "execution_count": 3,
     "metadata": {},
     "output_type": "execute_result"
    }
   ],
   "source": [
    "df.head()"
   ]
  },
  {
   "cell_type": "code",
   "execution_count": 5,
   "metadata": {},
   "outputs": [
    {
     "name": "stdout",
     "output_type": "stream",
     "text": [
      "Total no. of rows in dataset = 36\n"
     ]
    }
   ],
   "source": [
    "print(\"Total no. of rows in dataset = {}\".format(df.shape[0]))"
   ]
  },
  {
   "cell_type": "code",
   "execution_count": 6,
   "metadata": {},
   "outputs": [
    {
     "name": "stdout",
     "output_type": "stream",
     "text": [
      "Total no. of columns in dataset = 9\n"
     ]
    }
   ],
   "source": [
    "print(\"Total no. of columns in dataset = {}\".format(df.shape[1]))"
   ]
  },
  {
   "cell_type": "code",
   "execution_count": 7,
   "metadata": {},
   "outputs": [],
   "source": [
    "df.replace(',','',regex=True, inplace=True)"
   ]
  },
  {
   "cell_type": "markdown",
   "metadata": {},
   "source": [
    "# TRAINIG THE DATASET"
   ]
  },
  {
   "cell_type": "code",
   "execution_count": 9,
   "metadata": {},
   "outputs": [],
   "source": [
    "target_col = \"Total\"\n",
    "X= df.loc[:,df.columns[3:9]]\n",
    "y= df.loc[:, target_col]\n",
    "\n",
    "X_train, X_test,y_train,y_test = train_test_split(X,y,test_size=0.30, random_state=42)"
   ]
  },
  {
   "cell_type": "markdown",
   "metadata": {},
   "source": [
    "# Linear Regression Using Statsmodels"
   ]
  },
  {
   "cell_type": "code",
   "execution_count": 15,
   "metadata": {},
   "outputs": [],
   "source": [
    "X_with_constant = sm.add_constant(X_train)"
   ]
  },
  {
   "cell_type": "code",
   "execution_count": 16,
   "metadata": {},
   "outputs": [
    {
     "data": {
      "text/plain": [
       "const    188.088196\n",
       "x1         8.064389\n",
       "x2         6.736002\n",
       "x3       -12.259874\n",
       "x4        -2.212512\n",
       "x5         2.308032\n",
       "x6        -0.413863\n",
       "dtype: float64"
      ]
     },
     "execution_count": 16,
     "metadata": {},
     "output_type": "execute_result"
    }
   ],
   "source": [
    "model = sm.OLS(y_train.astype(float), X_with_constant.astype(float))\n",
    "results = model.fit()\n",
    "results.params"
   ]
  },
  {
   "cell_type": "code",
   "execution_count": 17,
   "metadata": {},
   "outputs": [
    {
     "name": "stdout",
     "output_type": "stream",
     "text": [
      "                            OLS Regression Results                            \n",
      "==============================================================================\n",
      "Dep. Variable:                  Total   R-squared:                       0.937\n",
      "Model:                            OLS   Adj. R-squared:                  0.916\n",
      "Method:                 Least Squares   F-statistic:                     44.46\n",
      "Date:                Sat, 10 Jul 2021   Prob (F-statistic):           7.89e-10\n",
      "Time:                        22:27:02   Log-Likelihood:                -190.65\n",
      "No. Observations:                  25   AIC:                             395.3\n",
      "Df Residuals:                      18   BIC:                             403.8\n",
      "Df Model:                           6                                         \n",
      "Covariance Type:            nonrobust                                         \n",
      "==============================================================================\n",
      "                 coef    std err          t      P>|t|      [0.025      0.975]\n",
      "------------------------------------------------------------------------------\n",
      "const        188.0882    166.044      1.133      0.272    -160.758     536.934\n",
      "x1             8.0644      1.334      6.047      0.000       5.263      10.866\n",
      "x2             6.7360      3.370      1.999      0.061      -0.343      13.815\n",
      "x3           -12.2599      3.504     -3.499      0.003     -19.622      -4.898\n",
      "x4            -2.2125      2.584     -0.856      0.403      -7.641       3.216\n",
      "x5             2.3080      2.241      1.030      0.317      -2.399       7.015\n",
      "x6            -0.4139      0.379     -1.091      0.289      -1.211       0.383\n",
      "==============================================================================\n",
      "Omnibus:                        1.831   Durbin-Watson:                   2.478\n",
      "Prob(Omnibus):                  0.400   Jarque-Bera (JB):                0.611\n",
      "Skew:                           0.090   Prob(JB):                        0.737\n",
      "Kurtosis:                       3.744   Cond. No.                     1.68e+03\n",
      "==============================================================================\n",
      "\n",
      "Notes:\n",
      "[1] Standard Errors assume that the covariance matrix of the errors is correctly specified.\n",
      "[2] The condition number is large, 1.68e+03. This might indicate that there are\n",
      "strong multicollinearity or other numerical problems.\n"
     ]
    }
   ],
   "source": [
    "print(results.summary())"
   ]
  },
  {
   "cell_type": "code",
   "execution_count": 11,
   "metadata": {},
   "outputs": [],
   "source": [
    "X_test = sm.add_constant(X_test)\n",
    "y_pred = results.predict(X_test.astype(int))\n",
    "y_test = np.array(y_test, dtype=int)\n",
    "X_test = np.array(X_test, dtype=int)\n",
    "y_pred = np.array(y_pred, dtype=int)\n",
    "X_train = np.array(X_train, dtype=int)\n",
    "residual = y_test - y_pred"
   ]
  },
  {
   "cell_type": "markdown",
   "metadata": {},
   "source": [
    "# Finding Variance"
   ]
  },
  {
   "cell_type": "code",
   "execution_count": 12,
   "metadata": {},
   "outputs": [
    {
     "name": "stdout",
     "output_type": "stream",
     "text": [
      "[15.615644993214241, 56.36378364602261, 37.42754728020933, 15.364696047557585, 56.390835542886904, 10.6574633251826]\n"
     ]
    },
    {
     "data": {
      "text/plain": [
       "<seaborn.axisgrid.FacetGrid at 0x208ab4335e0>"
      ]
     },
     "execution_count": 12,
     "metadata": {},
     "output_type": "execute_result"
    },
    {
     "data": {
      "image/png": "[encoded data removed]",
      "text/plain": [
       "<Figure size 360x360 with 1 Axes>"
      ]
     },
     "metadata": {
      "needs_background": "light"
     },
     "output_type": "display_data"
    }
   ],
   "source": [
    "vif = [variance_inflation_factor(X_train, i) for i in range(X_train.shape[1])]\n",
    "pd.DataFrame({'vif': vif[0:]}, index=X_train[2]).T\n",
    "print(vif)\n",
    "sns.displot(residual)"
   ]
  },
  {
   "cell_type": "code",
   "execution_count": 13,
   "metadata": {},
   "outputs": [
    {
     "data": {
      "image/png": "[encoded data removed]",
      "text/plain": [
       "<Figure size 432x180 with 1 Axes>"
      ]
     },
     "metadata": {
      "needs_background": "light"
     },
     "output_type": "display_data"
    }
   ],
   "source": [
    "fig, ax = plt.subplots(figsize=(6,2.5))\n",
    "_, (__, ___, r) = sp.stats.probplot(residual, plot=ax, fit=True)"
   ]
  },
  {
   "cell_type": "markdown",
   "metadata": {},
   "source": [
    "# Residual"
   ]
  },
  {
   "cell_type": "code",
   "execution_count": 14,
   "metadata": {},
   "outputs": [
    {
     "name": "stdout",
     "output_type": "stream",
     "text": [
      "[-216  660  152 -175  -82 -204 3599  961  411 -164  377]\n"
     ]
    },
    {
     "data": {
      "image/png": "[encoded data removed]",
      "text/plain": [
       "<Figure size 432x180 with 1 Axes>"
      ]
     },
     "metadata": {
      "needs_background": "light"
     },
     "output_type": "display_data"
    }
   ],
   "source": [
    "np.mean(residual)\n",
    "\n",
    "fig, ax = plt.subplots(figsize=(6,2.5))\n",
    "_ = ax.scatter(y_pred, residual)\n",
    "\n",
    "\n",
    "print(residual)"
   ]
  },
  {
   "cell_type": "code",
   "execution_count": null,
   "metadata": {},
   "outputs": [],
   "source": []
  }
 ],
 "metadata": {
  "kernelspec": {
   "display_name": "Python 3",
   "language": "python",
   "name": "python3"
  },
  "language_info": {
   "codemirror_mode": {
    "name": "ipython",
    "version": 3
   },
   "file_extension": ".py",
   "mimetype": "text/x-python",
   "name": "python",
   "nbconvert_exporter": "python",
   "pygments_lexer": "ipython3",
   "version": "3.8.5"
  }
 },
 "nbformat": 4,
 "nbformat_minor": 4
}
